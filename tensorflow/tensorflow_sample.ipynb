{
 "cells": [
  {
   "cell_type": "code",
   "execution_count": null,
   "metadata": {
    "collapsed": true
   },
   "outputs": [],
   "source": [
    "%matplotlib inline\n",
    "import matplotlib.pyplot as plt\n",
    "import numpy as np\n",
    "\n",
    "x = np.arange(-20, 20, 0.1)\n",
    "y = np.sin(x)\n",
    "plt.plot(x, y)"
   ]
  },
  {
   "cell_type": "code",
   "execution_count": null,
   "metadata": {
    "collapsed": true
   },
   "outputs": [],
   "source": [
    "%matplotlib inline\n",
    "import matplotlib.pyplot as plt\n",
    "import numpy as np\n",
    "import pandas as pd\n",
    "import tensorflow as tf\n",
    "\n",
    "a = tf.constant(100, name='a')\n",
    "b = tf.constant(50, name='b')\n",
    "add_op = a + b\n",
    "\n",
    "# 変数を宣言してadd_opの結果を代入\n",
    "v = tf.Variable(0, name='v')\n",
    "let_op = tf.assign(v, add_op)\n",
    "\n",
    "# すべての変数を初期化して変数の中身を表示\n",
    "sess = tf.Session()\n",
    "sess.run(tf.global_variables_initializer())\n",
    "sess.run(let_op)\n",
    "print(sess.run(v))"
   ]
  },
  {
   "cell_type": "code",
   "execution_count": 16,
   "metadata": {
    "collapsed": false
   },
   "outputs": [
    {
     "name": "stdout",
     "output_type": "stream",
     "text": [
      "[2 4 6]\n",
      "[20 40 60]\n"
     ]
    }
   ],
   "source": [
    "import tensorflow as tf\n",
    "\n",
    "# 配列を設定(Noneにすると可変長になる)\n",
    "a = tf.placeholder(tf.int32, [None])\n",
    "b = tf.constant(2)\n",
    "x2_op = a * b\n",
    "\n",
    "# セッションを開始\n",
    "sess = tf.Session()\n",
    "\n",
    "# プレースホルダーに値を当てはめて実行する（[1, 2, 3] * 2を実行)\n",
    "r1 = sess.run(x2_op, feed_dict={ a:[1, 2, 3] })\n",
    "print(r1)\n",
    "\n",
    "r2 = sess.run(x2_op, feed_dict={ a:[10, 20, 30] })\n",
    "print(r2)"
   ]
  },
  {
   "cell_type": "code",
   "execution_count": 17,
   "metadata": {
    "collapsed": true
   },
   "outputs": [],
   "source": [
    "# bmi.csvを作成する\n",
    "\n",
    "import sys\n",
    "sys.path.append('/usr/local/lib/python3.5/dist-packages')\n",
    "\n",
    "import random\n",
    "\n",
    "# BMIを計算して体型を返す\n",
    "def calc_bmi(h, w):\n",
    "    bmi = w / (h/100) ** 2\n",
    "    if bmi < 18.5: return \"thin\"\n",
    "    if bmi < 25.0: return \"normal\"\n",
    "    return \"fat\"\n",
    "\n",
    "# 出力ファイルの準備\n",
    "fp = open(\"bmi.csv\",\"w\",encoding=\"utf-8\")\n",
    "fp.write(\"height,weight,label\\r\\n\")\n",
    "\n",
    "# ランダムなデータを生成\n",
    "cnt = {\"thin\":0, \"normal\":0, \"fat\":0}\n",
    "for i in range(20000):\n",
    "    h = random.randint(120,200)\n",
    "    w = random.randint(35, 80)\n",
    "    label = calc_bmi(h, w)\n",
    "    cnt[label] += 1\n",
    "    fp.write(\"{0},{1},{2}\\r\\n\".format(h, w, label))\n",
    "fp.close()\n"
   ]
  },
  {
   "cell_type": "code",
   "execution_count": 61,
   "metadata": {
    "collapsed": false
   },
   "outputs": [
    {
     "name": "stdout",
     "output_type": "stream",
     "text": [
      "step= 0 cre= 108.91 acc= 0.3126\n",
      "step= 500 cre= 46.6868 acc= 0.809\n",
      "step= 1000 cre= 40.8409 acc= 0.8908\n",
      "step= 1500 cre= 40.1824 acc= 0.943\n",
      "step= 2000 cre= 35.9449 acc= 0.9188\n",
      "step= 2500 cre= 32.0373 acc= 0.9612\n",
      "step= 3000 cre= 32.5656 acc= 0.968\n",
      "最終的な正解率= 0.966\n"
     ]
    }
   ],
   "source": [
    "import numpy as np\n",
    "import pandas as pd\n",
    "import tensorflow as tf\n",
    "\n",
    "# ファイル読み込み\n",
    "csv = pd.read_csv('bmi.csv')\n",
    "\n",
    "# 適当に正規化\n",
    "csv['height'] = csv['height'] / 200\n",
    "csv['weight'] = csv['weight'] / 100\n",
    "\n",
    "#  ラベルを三次元のクラスで表す\n",
    "bclass = {'thin': [1,0,0], 'normal': [0,1,0], 'fat': [0,0,1]}\n",
    "# 三次元の配列が入っている配列にする\n",
    "csv['label_array'] = csv['label'].apply(lambda x : np.array(bclass[x]))\n",
    "\n",
    "# テストデータの準備(重さ・高さの配列と、三次元配列の配列を抽出)\n",
    "test_csv = csv[15000:20000] \n",
    "test_pat = test_csv[['weight', 'height']]\n",
    "test_ans = list(test_csv['label_array'])\n",
    "\n",
    "# 身長・体重、答えのラベルを格納する変数\n",
    "x = tf.placeholder(tf.float32, [None, 2])\n",
    "y_ = tf.placeholder(tf.float32, [None, 3])\n",
    "\n",
    "# 重みとバイアスの宣言\n",
    "W = tf.Variable(tf.zeros([2, 3]))\n",
    "b = tf.Variable(tf.zeros([3]))\n",
    "\n",
    "# 予測結果を定義(matmulはnumpyのdotと同じ) ソフトマックスで出力した結果\n",
    "y = tf.nn.softmax(tf.matmul(x, W) + b)\n",
    "\n",
    "# 訓練（損失関数を定義して、勾配降下法で損失関数を最小にする）\n",
    "#　答えのラベルと予測結果を使用する\n",
    "cross_entropy = -tf.reduce_sum(y_ * tf.log(y))\n",
    "optimizer = tf.train.GradientDescentOptimizer(0.01)\n",
    "train = optimizer.minimize(cross_entropy)\n",
    "\n",
    "# 精度を求める（答えと予測結果が正しいか）\n",
    "predict = tf.equal(tf.argmax(y, 1), tf.argmax(y_, 1))\n",
    "accuracy = tf.reduce_mean(tf.cast(predict, tf.float32))\n",
    "\n",
    "# セッションの開始\n",
    "sess = tf.Session()\n",
    "tw = tf.summary.FileWriter('log_dir', graph=sess.graph)\n",
    "sess.run(tf.global_variables_initializer())\n",
    "\n",
    "# 学習\n",
    "for step in range(3500):\n",
    "    # 100件ずつミニバッチで学習させる\n",
    "    i = (step * 100) % 14000\n",
    "    rows = csv[1 + i : 1 + i + 100]\n",
    "    \n",
    "    # 学習データとその答えの用意\n",
    "    x_pat = rows[['weight', 'height']]\n",
    "    y_ans = list(rows['label_array'])\n",
    "    fd = {x: x_pat, y_: y_ans}\n",
    "\n",
    "    sess.run(train, feed_dict=fd)\n",
    "\n",
    "    # 500件ごとに損失関数と精度を表示する\n",
    "    if step % 500 == 0:\n",
    "        # 学習データを使って誤差を求める\n",
    "        cre = sess.run(cross_entropy, feed_dict=fd)\n",
    "        # テストデータを使って精度を求める\n",
    "        acc = sess.run(accuracy, feed_dict={x: test_pat, y_: test_ans})\n",
    "        print('step=', step, 'cre=', cre, 'acc=', acc)\n",
    "\n",
    "acc = sess.run(accuracy, feed_dict={x: test_pat, y_: test_ans})\n",
    "print('最終的な正解率=', acc)\n",
    "        "
   ]
  }
 ],
 "metadata": {
  "anaconda-cloud": {},
  "kernelspec": {
   "display_name": "Python [Root]",
   "language": "python",
   "name": "Python [Root]"
  },
  "language_info": {
   "codemirror_mode": {
    "name": "ipython",
    "version": 3
   },
   "file_extension": ".py",
   "mimetype": "text/x-python",
   "name": "python",
   "nbconvert_exporter": "python",
   "pygments_lexer": "ipython3",
   "version": "3.5.2"
  }
 },
 "nbformat": 4,
 "nbformat_minor": 0
}
